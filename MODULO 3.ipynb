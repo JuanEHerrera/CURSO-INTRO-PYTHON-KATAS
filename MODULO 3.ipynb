{
 "cells": [
  {
   "cell_type": "code",
   "execution_count": null,
   "metadata": {},
   "outputs": [],
   "source": []
  },
  {
   "cell_type": "markdown",
   "metadata": {},
   "source": [
    "# MÓDULO 3"
   ]
  },
  {
   "cell_type": "markdown",
   "metadata": {},
   "source": [
    "# Ejercicios If, Else, Y Elif"
   ]
  },
  {
   "cell_type": "markdown",
   "metadata": {},
   "source": [
    "# Ejercicio 1"
   ]
  },
  {
   "cell_type": "code",
   "execution_count": 1,
   "metadata": {},
   "outputs": [
    {
     "name": "stdout",
     "output_type": "stream",
     "text": [
      "¡Un Asteroide Se Acerca A La Tierra!\n"
     ]
    }
   ],
   "source": [
    "Velocidad = 25\n",
    "Asteroide = 49\n",
    "if Velocidad <= Asteroide:\n",
    "    print(\"¡Un Asteroide Se Acerca A La Tierra!\")\n",
    "else:\n",
    "    print(\"¡Todo Esta Bien!\")"
   ]
  },
  {
   "cell_type": "markdown",
   "metadata": {},
   "source": [
    "# Ejercicio 2"
   ]
  },
  {
   "cell_type": "code",
   "execution_count": 2,
   "metadata": {},
   "outputs": [
    {
     "name": "stdout",
     "output_type": "stream",
     "text": [
      "¡Hay Un Asteroide Que Se Dirige A La Tierra Ahora A Una Velocidad De 19 Km/s!\n"
     ]
    }
   ],
   "source": [
    "Velocidad = 20\n",
    "Asteroide = 19\n",
    "Advertencia = 19\n",
    "if Asteroide >= Velocidad:\n",
    "    print(\"¡Un Asteroide Se Acerca A La Tierra!\")\n",
    "elif Advertencia == Asteroide:\n",
    "    print(\"¡Hay Un Asteroide Que Se Dirige A La Tierra Ahora A Una Velocidad De 19 Km/s!\")\n",
    "else:\n",
    "    print(\"¡Todo Esta Bien!\")-"
   ]
  },
  {
   "cell_type": "markdown",
   "metadata": {},
   "source": [
    "# Ejercicios Operadores And Y Or"
   ]
  },
  {
   "cell_type": "markdown",
   "metadata": {},
   "source": [
    "# Ejercicio 1"
   ]
  },
  {
   "cell_type": "code",
   "execution_count": 4,
   "metadata": {},
   "outputs": [
    {
     "name": "stdout",
     "output_type": "stream",
     "text": [
      "¡Un Asteroide Esta Pasando, Ve El Rayo De Luz En El Cielo!\n"
     ]
    }
   ],
   "source": [
    "Dimension = 25\n",
    "Velocidad = 25\n",
    "if Dimension > 100 or Velocidad > 25:\n",
    "    print(\"¡Peligro, Se Acerca Un Asteroide!\")\n",
    "elif Velocidad >=20:\n",
    "    print(\"¡Un Asteroide Esta Pasando, Ve El Rayo De Luz En El Cielo!\")\n",
    "else:\n",
    "    print(\"Todo Esta Bien\")"
   ]
  }
 ],
 "metadata": {
  "interpreter": {
   "hash": "c43cc35bf10d47ee272d24c9e8f3a3c68ece12bba4bc202b3d531e99134b684d"
  },
  "kernelspec": {
   "display_name": "Python 3.10.2 64-bit",
   "language": "python",
   "name": "python3"
  },
  "language_info": {
   "codemirror_mode": {
    "name": "ipython",
    "version": 3
   },
   "file_extension": ".py",
   "mimetype": "text/x-python",
   "name": "python",
   "nbconvert_exporter": "python",
   "pygments_lexer": "ipython3",
   "version": "3.10.2"
  },
  "orig_nbformat": 4
 },
 "nbformat": 4,
 "nbformat_minor": 2
}
