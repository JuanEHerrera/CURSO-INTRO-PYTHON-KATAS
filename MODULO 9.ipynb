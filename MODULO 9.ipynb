{
 "cells": [
  {
   "cell_type": "code",
   "execution_count": null,
   "metadata": {},
   "outputs": [],
   "source": []
  },
  {
   "cell_type": "markdown",
   "metadata": {},
   "source": [
    "# MÓDULO 9"
   ]
  },
  {
   "cell_type": "markdown",
   "metadata": {},
   "source": [
    "# Funciones"
   ]
  },
  {
   "cell_type": "markdown",
   "metadata": {},
   "source": [
    "# Ejercicio 1"
   ]
  },
  {
   "cell_type": "code",
   "execution_count": 2,
   "metadata": {},
   "outputs": [
    {
     "name": "stdout",
     "output_type": "stream",
     "text": [
      "Reporte Total:\n",
      "    Promedio Total: 82.0%\n",
      "    Tanque Principal: 90%\n",
      "    Tanque Externo: 69%\n",
      "    Tanque Hidrógeno: 87%\n",
      "    \n"
     ]
    }
   ],
   "source": [
    "def Tanques_Combustible(Tanque_Principal, Tanque_Externo , Tanque_Hidrógeno):\n",
    "    Promedio_Total = (Tanque_Principal + Tanque_Externo + Tanque_Hidrógeno) / 3\n",
    "    return f\"\"\"Reporte Total:\n",
    "    Promedio Total: {Promedio_Total}%\n",
    "    Tanque Principal: {Tanque_Principal}%\n",
    "    Tanque Externo: {Tanque_Externo}%\n",
    "    Tanque Hidrógeno: {Tanque_Hidrógeno}%\n",
    "    \"\"\"\n",
    "print(Tanques_Combustible(90, 69, 87))"
   ]
  },
  {
   "cell_type": "code",
   "execution_count": 3,
   "metadata": {},
   "outputs": [
    {
     "data": {
      "text/plain": [
       "84.33333333333333"
      ]
     },
     "execution_count": 3,
     "metadata": {},
     "output_type": "execute_result"
    }
   ],
   "source": [
    "def Promedio(valores):\n",
    "    Total =sum(valores)\n",
    "    Número_De_Elementos = len(valores)\n",
    "    return Total / Número_De_Elementos\n",
    "\n",
    "Promedio([77, 91, 85])"
   ]
  },
  {
   "cell_type": "code",
   "execution_count": 5,
   "metadata": {},
   "outputs": [
    {
     "name": "stdout",
     "output_type": "stream",
     "text": [
      "Reporte Total:\n",
      "    Promedio Total: 112.0%\n",
      "    Tanque Principal: 92%\n",
      "    Tanque Externo: 75%\n",
      "    Tanque Hidrógeno: 169%\n",
      "    \n"
     ]
    }
   ],
   "source": [
    "def Tanques_Combustible(Tanque_Principal, Tanque_Externo, Tanque_Hidrógeno):\n",
    "    return f\"\"\"Reporte Total:\n",
    "    Promedio Total: {Promedio([Tanque_Principal, Tanque_Externo, Tanque_Hidrógeno])}%\n",
    "    Tanque Principal: {Tanque_Principal}%\n",
    "    Tanque Externo: {Tanque_Externo}%\n",
    "    Tanque Hidrógeno: {Tanque_Hidrógeno}%\n",
    "    \"\"\"\n",
    "print(Tanques_Combustible(92, 75, 169))"
   ]
  },
  {
   "cell_type": "markdown",
   "metadata": {},
   "source": [
    "# Ejercicio 2"
   ]
  },
  {
   "cell_type": "code",
   "execution_count": 9,
   "metadata": {},
   "outputs": [
    {
     "name": "stdout",
     "output_type": "stream",
     "text": [
      "\n",
      "    Misión A Jupiter\n",
      "    Tiempo_Total_Viaje: 561675 Minutos\n",
      "    Tanque_Combustible: 658704000 Litros\n",
      "    \n"
     ]
    }
   ],
   "source": [
    "def Reporte_Misión(Preparación, Tiempo_Vuelo, Destino, Tanque_Externo, Tanque_Principal):\n",
    "    return f\"\"\"\n",
    "    Misión A {Destino}\n",
    "    Tiempo_Total_Viaje: {Preparación + Tiempo_Vuelo} Minutos\n",
    "    Tanque_Combustible: {Tanque_Principal + Tanque_Externo} Litros\n",
    "    \"\"\"\n",
    "print(Reporte_Misión(75, 561600, \"Jupiter\", 23014000, 635690000))"
   ]
  },
  {
   "cell_type": "code",
   "execution_count": 10,
   "metadata": {},
   "outputs": [
    {
     "name": "stdout",
     "output_type": "stream",
     "text": [
      "\n",
      "    Misión A Jupiter\n",
      "    Tiempo_Total_Viaje: 561675 Minutos\n",
      "    Tanque_Combustible: 595830000\n",
      "    \n"
     ]
    }
   ],
   "source": [
    "def Reporte_Misión(Destino, *Minutos, **Tanques_Combustible):\n",
    "    return f\"\"\"\n",
    "    Misión A {Destino}\n",
    "    Tiempo_Total_Viaje: {sum(Minutos)} Minutos\n",
    "    Tanque_Combustible: {sum(Tanques_Combustible.values())}\n",
    "    \"\"\"\n",
    "print(Reporte_Misión(\"Jupiter\", 75, 561600, Principal=365690000, Externo=230140000))"
   ]
  },
  {
   "cell_type": "code",
   "execution_count": 11,
   "metadata": {},
   "outputs": [
    {
     "name": "stdout",
     "output_type": "stream",
     "text": [
      "\n",
      "    Misión A Jupiter\n",
      "    Tiempo_Total_Viaje: 561680 Minutos\n",
      "    Total_Combustible: 595830000\n",
      "    Principal Deposito-> 365690000 Litros Utilizados\n",
      "Externo Deposito-> 230140000 Litros Utilizados\n",
      "\n"
     ]
    }
   ],
   "source": [
    "def Reporte_Misión(Destino, *Minutos, **Tanques_Combustible):\n",
    "    Reporte = f\"\"\"\n",
    "    Misión A {Destino}\n",
    "    Tiempo_Total_Viaje: {sum(Minutos)} Minutos\n",
    "    Total_Combustible: {sum(Tanques_Combustible.values())}\n",
    "    \"\"\"\n",
    "\n",
    "    for Nombre_Tanque, Litros in Tanques_Combustible.items():\n",
    "        Reporte+= f\"{Nombre_Tanque} Deposito-> {Litros} Litros Utilizados\\n\"\n",
    "    return Reporte\n",
    "print(Reporte_Misión(\"Jupiter\", 80, 561600, Principal=365690000, Externo=230140000))"
   ]
  }
 ],
 "metadata": {
  "interpreter": {
   "hash": "c43cc35bf10d47ee272d24c9e8f3a3c68ece12bba4bc202b3d531e99134b684d"
  },
  "kernelspec": {
   "display_name": "Python 3.10.2 64-bit",
   "language": "python",
   "name": "python3"
  },
  "language_info": {
   "codemirror_mode": {
    "name": "ipython",
    "version": 3
   },
   "file_extension": ".py",
   "mimetype": "text/x-python",
   "name": "python",
   "nbconvert_exporter": "python",
   "pygments_lexer": "ipython3",
   "version": "3.10.2"
  },
  "orig_nbformat": 4
 },
 "nbformat": 4,
 "nbformat_minor": 2
}
